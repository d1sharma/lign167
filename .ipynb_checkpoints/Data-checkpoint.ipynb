{
 "cells": [
  {
   "cell_type": "markdown",
   "metadata": {},
   "source": [
    "# Data Processing \n",
    "\n",
    "Please have emails.csv here. \n",
    "Some data processing and stuff"
   ]
  },
  {
   "cell_type": "code",
   "execution_count": 1,
   "metadata": {},
   "outputs": [],
   "source": [
    "import pandas as pd\n",
    "import matplotlib.pyplot as plt\n",
    "import numpy as np\n",
    "import os"
   ]
  },
  {
   "cell_type": "code",
   "execution_count": 2,
   "metadata": {},
   "outputs": [
    {
     "name": "stdout",
     "output_type": "stream",
     "text": [
      "                       file                                            message\n",
      "0     allen-p/_sent_mail/1.  Message-ID: <18782981.1075855378110.JavaMail.e...\n",
      "1    allen-p/_sent_mail/10.  Message-ID: <15464986.1075855378456.JavaMail.e...\n",
      "2   allen-p/_sent_mail/100.  Message-ID: <24216240.1075855687451.JavaMail.e...\n",
      "3  allen-p/_sent_mail/1000.  Message-ID: <13505866.1075863688222.JavaMail.e...\n",
      "4  allen-p/_sent_mail/1001.  Message-ID: <30922949.1075863688243.JavaMail.e...\n",
      "(517401, 2)\n"
     ]
    }
   ],
   "source": [
    "df = pd.read_csv(\"emails.csv\")\n",
    "print(df.head(5))\n",
    "print(df.shape)"
   ]
  },
  {
   "cell_type": "code",
   "execution_count": 3,
   "metadata": {},
   "outputs": [
    {
     "name": "stdout",
     "output_type": "stream",
     "text": [
      "Message-ID: <1115198.1075855687626.JavaMail.evans@thyme>\n",
      "Date: Thu, 5 Oct 2000 05:55:00 -0700 (PDT)\n",
      "From: phillip.allen@enron.com\n",
      "To: paula.harris@enron.com\n",
      "Subject: Re: 2001 Margin Plan\n",
      "Mime-Version: 1.0\n",
      "Content-Type: text/plain; charset=us-ascii\n",
      "Content-Transfer-Encoding: 7bit\n",
      "X-From: Phillip K Allen\n",
      "X-To: Paula Harris\n",
      "X-cc: \n",
      "X-bcc: \n",
      "X-Folder: \\Phillip_Allen_Dec2000\\Notes Folders\\'sent mail\n",
      "X-Origin: Allen-P\n",
      "X-FileName: pallen.nsf\n",
      "\n",
      "Paula,\n",
      "\n",
      " 35 million is fine\n",
      "\n",
      "Phillip\n",
      "allen-p/_sent_mail/105.\n"
     ]
    }
   ],
   "source": [
    "print(df['message'][15])\n",
    "print(df['file'][12])"
   ]
  },
  {
   "cell_type": "code",
   "execution_count": 4,
   "metadata": {},
   "outputs": [],
   "source": [
    "ndf = df.sample(frac=.2)"
   ]
  },
  {
   "cell_type": "code",
   "execution_count": 6,
   "metadata": {},
   "outputs": [
    {
     "name": "stdout",
     "output_type": "stream",
     "text": [
      "103480\n"
     ]
    }
   ],
   "source": [
    "# Getting python libraries\n",
    "# Getting python libraries\n",
    "messages = ndf['message']\n",
    "messages = list(messages)\n",
    "print(len(messages))\n",
    "FORWARDED = \"---- Forwarded\"\n",
    "for message in messages:\n",
    "    c  = message.find(FORWARDED)\n",
    "    if(c != -1):\n",
    "        messages.remove(message)"
   ]
  },
  {
   "cell_type": "code",
   "execution_count": 8,
   "metadata": {},
   "outputs": [
    {
     "data": {
      "text/plain": [
       "86130"
      ]
     },
     "execution_count": 8,
     "metadata": {},
     "output_type": "execute_result"
    }
   ],
   "source": [
    "len(messages)"
   ]
  },
  {
   "cell_type": "code",
   "execution_count": 9,
   "metadata": {},
   "outputs": [
    {
     "name": "stdout",
     "output_type": "stream",
     "text": [
      "Message-ID: <21996066.1075859896440.JavaMail.evans@thyme>\n",
      "Date: Fri, 5 Nov 1999 12:05:00 -0800 (PST)\n",
      "From: bhutt@ankarcapital.com\n",
      "To: mark.taylor@enron.com\n",
      "Subject: Re: Cruisin'\n",
      "Cc: gpier@doubleclick.net\n",
      "Mime-Version: 1.0\n",
      "Content-Type: text/plain; charset=us-ascii\n",
      "Content-Transfer-Encoding: 7bit\n",
      "Bcc: gpier@doubleclick.net\n",
      "X-From: \"Bruce Hutt\" <bhutt@ankarcapital.com>\n",
      "X-To: Mark Taylor\n",
      "X-cc: \"Pier, Greg\" <gpier@doubleclick.net>\n",
      "X-bcc: \n",
      "X-Folder: \\Mark_Taylor _Dec_2000\\Notes Folders\\All documents\n",
      "X-Origin: Taylor-M\n",
      "X-FileName: mtaylor.nsf\n",
      "\n",
      "I will check if the USVI is part of the US for my purposes.  I get confused\n",
      "regarding what is the US and what is part of the US imperial system.\n",
      "\n",
      "Also, if we are a boat leaving US territory and then reentering.....will we\n",
      "still not have to go through US customs?  I cannot have a customs\n",
      "official looking up a computer and seeing that I have left the country and\n",
      "thereby invalidating my green applications.  If USVI and BVI have a close\n",
      "relationship\n",
      "and they are not too fussed fine....but somehow I cannot see US immigration\n",
      "not being fussed.\n",
      "\n",
      "I do not want to spoil the holiday for you guys, and I know you are not keen\n",
      "on sailing within the confines of USVI (even if I can get there and that is\n",
      "another whole problem), so this is just a heads-up I may have to abandon\n",
      "ship.\n",
      "\n",
      "B\n",
      "\n",
      "\n",
      "PS     Gregg - do you have the flight details...so I can see if I can change\n",
      "to USVI?\n",
      "\n",
      "\n",
      "-----Original Message-----\n",
      "From: Mark Taylor <mtaylo1@ect.enron.com>\n",
      "To: Bruce Hutt <bhutt@ankarcapital.com>\n",
      "Cc: Pier, Greg <gpier@doubleclick.net>\n",
      "Date: Friday, November 05, 1999 11:27 AM\n",
      "Subject: Re: Cruisin'\n",
      "\n",
      "\n",
      ">\n",
      ">\n",
      ">Would it work if we picked you up in the USVI?  I know it's possible to fly\n",
      "into\n",
      ">St. Thomas either directly from New York or through San Juan and you could\n",
      "take\n",
      ">a ferry to St. John (still part o the USVI) where we could pick you up.\n",
      "It's a\n",
      ">bit of a hassle since we have to clear the boat into the US and then back\n",
      "to the\n",
      ">BVI but I've done it a couple of times before.  The timing might be\n",
      "difficult\n",
      ">since we can't possibly get the boat to St. John before the afternoon of\n",
      "the\n",
      ">22nd.  If you're nervous about sailing into the BVI, we could stick around\n",
      "St.\n",
      ">John for a few days.  You might check the cruising guide & see what it says\n",
      ">about the US side of things - places to go/anchor, etc.\n",
      ">\n",
      ">\n",
      ">\n"
     ]
    }
   ],
   "source": [
    "print(messages[4])"
   ]
  },
  {
   "cell_type": "code",
   "execution_count": 10,
   "metadata": {},
   "outputs": [
    {
     "name": "stdout",
     "output_type": "stream",
     "text": [
      "86130\n"
     ]
    }
   ],
   "source": [
    "# Finding only replied emails\n",
    "print(len(messages))\n",
    "REPLIED = \"--Original Message--\"\n",
    "for message in messages:\n",
    "    c  = message.find(REPLIED)\n",
    "    if(c == -1):\n",
    "        messages.remove(message)"
   ]
  },
  {
   "cell_type": "code",
   "execution_count": 11,
   "metadata": {},
   "outputs": [
    {
     "name": "stdout",
     "output_type": "stream",
     "text": [
      "46806\n"
     ]
    }
   ],
   "source": [
    "print(len(messages))"
   ]
  },
  {
   "cell_type": "code",
   "execution_count": null,
   "metadata": {},
   "outputs": [],
   "source": [
    "## After all the replied and not forwarded\n"
   ]
  }
 ],
 "metadata": {
  "kernelspec": {
   "display_name": "Python 3",
   "language": "python",
   "name": "python3"
  },
  "language_info": {
   "codemirror_mode": {
    "name": "ipython",
    "version": 3
   },
   "file_extension": ".py",
   "mimetype": "text/x-python",
   "name": "python",
   "nbconvert_exporter": "python",
   "pygments_lexer": "ipython3",
   "version": "3.7.0"
  }
 },
 "nbformat": 4,
 "nbformat_minor": 2
}
