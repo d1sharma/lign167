{
 "cells": [
  {
   "cell_type": "markdown",
   "metadata": {},
   "source": [
    "# Data Processing \n",
    "\n",
    "Please have emails.csv here. \n",
    "Some data processing and stuff"
   ]
  },
  {
   "cell_type": "code",
   "execution_count": 1,
   "metadata": {},
   "outputs": [],
   "source": [
    "import pandas as pd\n",
    "import matplotlib.pyplot as plt\n",
    "import numpy as np\n",
    "import os"
   ]
  },
  {
   "cell_type": "code",
   "execution_count": 9,
   "metadata": {},
   "outputs": [
    {
     "data": {
      "text/plain": [
       "'GeForce RTX 2070'"
      ]
     },
     "execution_count": 9,
     "metadata": {},
     "output_type": "execute_result"
    }
   ],
   "source": [
    "import torch\n",
    "torch.cuda.get_device_name(0)"
   ]
  },
  {
   "cell_type": "code",
   "execution_count": 35,
   "metadata": {},
   "outputs": [
    {
     "name": "stdout",
     "output_type": "stream",
     "text": [
      "   Unnamed: 0                                     Message-ID  \\\n",
      "0           0  <18782981.1075855378110.JavaMail.evans@thyme>   \n",
      "1           1  <15464986.1075855378456.JavaMail.evans@thyme>   \n",
      "2           2  <24216240.1075855687451.JavaMail.evans@thyme>   \n",
      "3           3  <13505866.1075863688222.JavaMail.evans@thyme>   \n",
      "4           4  <30922949.1075863688243.JavaMail.evans@thyme>   \n",
      "\n",
      "                  Date                                    From  \\\n",
      "0  2001-05-14 23:39:00  frozenset({'phillip.allen@enron.com'})   \n",
      "1  2001-05-04 20:51:00  frozenset({'phillip.allen@enron.com'})   \n",
      "2  2000-10-18 10:00:00  frozenset({'phillip.allen@enron.com'})   \n",
      "3  2000-10-23 13:13:00  frozenset({'phillip.allen@enron.com'})   \n",
      "4  2000-08-31 12:07:00  frozenset({'phillip.allen@enron.com'})   \n",
      "\n",
      "                                       To    Subject           X-From  \\\n",
      "0     frozenset({'tim.belden@enron.com'})        NaN  Phillip K Allen   \n",
      "1  frozenset({'john.lavorato@enron.com'})        Re:  Phillip K Allen   \n",
      "2   frozenset({'leah.arsdall@enron.com'})   Re: test  Phillip K Allen   \n",
      "3    frozenset({'randall.gay@enron.com'})        NaN  Phillip K Allen   \n",
      "4     frozenset({'greg.piper@enron.com'})  Re: Hello  Phillip K Allen   \n",
      "\n",
      "                                                X-To X-cc X-bcc   ...     \\\n",
      "0           Tim Belden <Tim Belden/Enron@EnronXGate>  NaN   NaN   ...      \n",
      "1  John J Lavorato <John J Lavorato/ENRON@enronXg...  NaN   NaN   ...      \n",
      "2                                   Leah Van Arsdall  NaN   NaN   ...      \n",
      "3                                      Randall L Gay  NaN   NaN   ...      \n",
      "4                                         Greg Piper  NaN   NaN   ...      \n",
      "\n",
      "  Cat_10_level_1 Cat_10_level_2 Cat_10_weight Cat_11_level_1 Cat_11_level_2  \\\n",
      "0            NaN            NaN           NaN            NaN            NaN   \n",
      "1            NaN            NaN           NaN            NaN            NaN   \n",
      "2            NaN            NaN           NaN            NaN            NaN   \n",
      "3            NaN            NaN           NaN            NaN            NaN   \n",
      "4            NaN            NaN           NaN            NaN            NaN   \n",
      "\n",
      "   Cat_11_weight  Cat_12_level_1  Cat_12_level_2  Cat_12_weight  labeled  \n",
      "0            NaN             NaN             NaN            NaN    False  \n",
      "1            NaN             NaN             NaN            NaN    False  \n",
      "2            NaN             NaN             NaN            NaN    False  \n",
      "3            NaN             NaN             NaN            NaN    False  \n",
      "4            NaN             NaN             NaN            NaN    False  \n",
      "\n",
      "[5 rows x 52 columns]\n",
      "(100000, 52)\n"
     ]
    },
    {
     "name": "stderr",
     "output_type": "stream",
     "text": [
      "C:\\Python\\lib\\site-packages\\IPython\\core\\interactiveshell.py:2785: DtypeWarning: Columns (9) have mixed types. Specify dtype option on import or set low_memory=False.\n",
      "  interactivity=interactivity, compiler=compiler, result=result)\n"
     ]
    }
   ],
   "source": [
    "df = pd.read_csv(\"100kem.csv\")\n",
    "print(df.head(5))\n",
    "print(df.shape)"
   ]
  },
  {
   "cell_type": "code",
   "execution_count": 36,
   "metadata": {},
   "outputs": [
    {
     "data": {
      "text/plain": [
       "['Unnamed: 0',\n",
       " 'Message-ID',\n",
       " 'Date',\n",
       " 'From',\n",
       " 'To',\n",
       " 'Subject',\n",
       " 'X-From',\n",
       " 'X-To',\n",
       " 'X-cc',\n",
       " 'X-bcc',\n",
       " 'X-Folder',\n",
       " 'X-Origin',\n",
       " 'X-FileName',\n",
       " 'content',\n",
       " 'user',\n",
       " 'Cat_1_level_1',\n",
       " 'Cat_1_level_2',\n",
       " 'Cat_1_weight',\n",
       " 'Cat_2_level_1',\n",
       " 'Cat_2_level_2',\n",
       " 'Cat_2_weight',\n",
       " 'Cat_3_level_1',\n",
       " 'Cat_3_level_2',\n",
       " 'Cat_3_weight',\n",
       " 'Cat_4_level_1',\n",
       " 'Cat_4_level_2',\n",
       " 'Cat_4_weight',\n",
       " 'Cat_5_level_1',\n",
       " 'Cat_5_level_2',\n",
       " 'Cat_5_weight',\n",
       " 'Cat_6_level_1',\n",
       " 'Cat_6_level_2',\n",
       " 'Cat_6_weight',\n",
       " 'Cat_7_level_1',\n",
       " 'Cat_7_level_2',\n",
       " 'Cat_7_weight',\n",
       " 'Cat_8_level_1',\n",
       " 'Cat_8_level_2',\n",
       " 'Cat_8_weight',\n",
       " 'Cat_9_level_1',\n",
       " 'Cat_9_level_2',\n",
       " 'Cat_9_weight',\n",
       " 'Cat_10_level_1',\n",
       " 'Cat_10_level_2',\n",
       " 'Cat_10_weight',\n",
       " 'Cat_11_level_1',\n",
       " 'Cat_11_level_2',\n",
       " 'Cat_11_weight',\n",
       " 'Cat_12_level_1',\n",
       " 'Cat_12_level_2',\n",
       " 'Cat_12_weight',\n",
       " 'labeled']"
      ]
     },
     "execution_count": 36,
     "metadata": {},
     "output_type": "execute_result"
    }
   ],
   "source": [
    "list(df)"
   ]
  },
  {
   "cell_type": "code",
   "execution_count": 37,
   "metadata": {},
   "outputs": [],
   "source": [
    "df = df.drop(columns=['Message-ID','Date','From','X-From',\n",
    "                      'X-To',\n",
    " 'X-cc',\n",
    " 'X-bcc',\n",
    " 'X-Folder',\n",
    " 'X-Origin',\n",
    " 'X-FileName',\n",
    "'Cat_1_level_1',\n",
    " 'Cat_1_level_2',\n",
    " 'Cat_1_weight',\n",
    " 'Cat_2_level_1',\n",
    " 'Cat_2_level_2',\n",
    " 'Cat_2_weight',\n",
    " 'Cat_3_level_1',\n",
    " 'Cat_3_level_2',\n",
    " 'Cat_3_weight',\n",
    " 'Cat_4_level_1',\n",
    " 'Cat_4_level_2',\n",
    " 'Cat_4_weight',\n",
    " 'Cat_5_level_1',\n",
    " 'Cat_5_level_2',\n",
    " 'Cat_5_weight',\n",
    " 'Cat_6_level_1',\n",
    " 'Cat_6_level_2',\n",
    " 'Cat_6_weight',\n",
    " 'Cat_7_level_1',\n",
    " 'Cat_7_level_2',\n",
    " 'Cat_7_weight',\n",
    " 'Cat_8_level_1',\n",
    " 'Cat_8_level_2',\n",
    " 'Cat_8_weight',\n",
    " 'Cat_9_level_1',\n",
    " 'Cat_9_level_2',\n",
    " 'Cat_9_weight',\n",
    " 'Cat_10_level_1',\n",
    " 'Cat_10_level_2',\n",
    " 'Cat_10_weight',\n",
    " 'Cat_11_level_1',\n",
    " 'Cat_11_level_2',\n",
    " 'Cat_11_weight',\n",
    " 'Cat_12_level_1',\n",
    " 'Cat_12_level_2',\n",
    " 'Cat_12_weight',     ])"
   ]
  },
  {
   "cell_type": "code",
   "execution_count": 38,
   "metadata": {},
   "outputs": [
    {
     "name": "stdout",
     "output_type": "stream",
     "text": [
      "(100000, 6)\n",
      "   Unnamed: 0                                      To    Subject  \\\n",
      "0           0     frozenset({'tim.belden@enron.com'})        NaN   \n",
      "1           1  frozenset({'john.lavorato@enron.com'})        Re:   \n",
      "2           2   frozenset({'leah.arsdall@enron.com'})   Re: test   \n",
      "3           3    frozenset({'randall.gay@enron.com'})        NaN   \n",
      "4           4     frozenset({'greg.piper@enron.com'})  Re: Hello   \n",
      "\n",
      "                                             content     user  labeled  \n",
      "0                               Here is our forecast  allen-p    False  \n",
      "1  Traveling to have a business meeting takes the...  allen-p    False  \n",
      "2                      test successful. way to go!!!  allen-p    False  \n",
      "3  Randy, Can you send me a schedule of the salar...  allen-p    False  \n",
      "4                  Let's shoot for Tuesday at 11:45.  allen-p    False  \n"
     ]
    }
   ],
   "source": [
    "#Finding the replied ones and dropping NAN\n",
    "print(df.shape)\n",
    "#print(df.loc[df['Cat_2_level_1'] == 2])\n",
    "print(df.head(5))"
   ]
  },
  {
   "cell_type": "code",
   "execution_count": 44,
   "metadata": {},
   "outputs": [
    {
     "name": "stdout",
     "output_type": "stream",
     "text": [
      "(16561, 6)\n"
     ]
    }
   ],
   "source": [
    "# Getting the content \n",
    "replied = df[df['content'].str.contains(\"Original Message\") == True]\n",
    "print(replied.shape)"
   ]
  },
  {
   "cell_type": "code",
   "execution_count": null,
   "metadata": {},
   "outputs": [],
   "source": []
  },
  {
   "cell_type": "code",
   "execution_count": 56,
   "metadata": {},
   "outputs": [
    {
     "ename": "AttributeError",
     "evalue": "'float' object has no attribute 'find'",
     "output_type": "error",
     "traceback": [
      "\u001b[1;31m---------------------------------------------------------------------------\u001b[0m",
      "\u001b[1;31mAttributeError\u001b[0m                            Traceback (most recent call last)",
      "\u001b[1;32m<ipython-input-56-ba717fc24ac9>\u001b[0m in \u001b[0;36m<module>\u001b[1;34m()\u001b[0m\n\u001b[0;32m      3\u001b[0m \u001b[0mc\u001b[0m \u001b[1;33m=\u001b[0m \u001b[1;36m0\u001b[0m\u001b[1;33m\u001b[0m\u001b[0m\n\u001b[0;32m      4\u001b[0m \u001b[1;32mfor\u001b[0m \u001b[0mi\u001b[0m \u001b[1;32min\u001b[0m \u001b[0mrange\u001b[0m\u001b[1;33m(\u001b[0m\u001b[1;36m2314\u001b[0m\u001b[1;33m)\u001b[0m\u001b[1;33m:\u001b[0m\u001b[1;33m\u001b[0m\u001b[0m\n\u001b[1;32m----> 5\u001b[1;33m     \u001b[1;32mif\u001b[0m\u001b[1;33m(\u001b[0m\u001b[0mdf\u001b[0m\u001b[1;33m[\u001b[0m\u001b[1;34m'content'\u001b[0m\u001b[1;33m]\u001b[0m\u001b[1;33m[\u001b[0m\u001b[0mi\u001b[0m\u001b[1;33m]\u001b[0m\u001b[1;33m.\u001b[0m\u001b[0mfind\u001b[0m\u001b[1;33m(\u001b[0m\u001b[1;34m\"Original Message\"\u001b[0m\u001b[1;33m)\u001b[0m \u001b[1;33m!=\u001b[0m \u001b[1;33m-\u001b[0m\u001b[1;36m1\u001b[0m\u001b[1;33m)\u001b[0m\u001b[1;33m:\u001b[0m\u001b[1;33m\u001b[0m\u001b[0m\n\u001b[0m\u001b[0;32m      6\u001b[0m         \u001b[0mc\u001b[0m \u001b[1;33m+=\u001b[0m \u001b[1;36m1\u001b[0m\u001b[1;33m\u001b[0m\u001b[0m\n\u001b[0;32m      7\u001b[0m         \u001b[0mprint\u001b[0m\u001b[1;33m(\u001b[0m\u001b[0mdf\u001b[0m\u001b[1;33m[\u001b[0m\u001b[1;34m'content'\u001b[0m\u001b[1;33m]\u001b[0m\u001b[1;33m[\u001b[0m\u001b[0mi\u001b[0m\u001b[1;33m]\u001b[0m\u001b[1;33m)\u001b[0m\u001b[1;33m\u001b[0m\u001b[0m\n",
      "\u001b[1;31mAttributeError\u001b[0m: 'float' object has no attribute 'find'"
     ]
    }
   ],
   "source": [
    "# trying to add my column\n",
    "#reply = list()\n",
    "c = 0\n",
    "for i in range():\n",
    "    if(df['content'][i].find(\"Original Message\") != -1):\n",
    "        c += 1\n",
    "        print(df['content'][i])\n",
    "        \n",
    "print (c)"
   ]
  }
 ],
 "metadata": {
  "kernelspec": {
   "display_name": "Python 3",
   "language": "python",
   "name": "python3"
  },
  "language_info": {
   "codemirror_mode": {
    "name": "ipython",
    "version": 3
   },
   "file_extension": ".py",
   "mimetype": "text/x-python",
   "name": "python",
   "nbconvert_exporter": "python",
   "pygments_lexer": "ipython3",
   "version": "3.7.0"
  }
 },
 "nbformat": 4,
 "nbformat_minor": 2
}
